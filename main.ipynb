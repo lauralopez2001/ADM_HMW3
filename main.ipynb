{
 "cells": [
  {
   "cell_type": "code",
   "execution_count": 5,
   "metadata": {},
   "outputs": [],
   "source": [
    "import bs4\n",
    "from bs4 import BeautifulSoup\n",
    "import requests\n",
    "import time\n",
    "import os"
   ]
  },
  {
   "cell_type": "code",
   "execution_count": 5,
   "metadata": {},
   "outputs": [],
   "source": [
    "first_url = \"https://www.findamasters.com/masters-degrees/msc-degrees/\"\n",
    "urls = \"https://www.findamasters.com/masters-degrees/msc-degrees/?PG=2\""
   ]
  },
  {
   "cell_type": "code",
   "execution_count": 3,
   "metadata": {},
   "outputs": [],
   "source": [
    "#get a list of the urls of all the 400 pages\n",
    "def generate_urls(start_url, num_pages):\n",
    "   url_list = [start_url.replace(\"?PG=2\", f\"?PG={i}\") for i in range(1, num_pages+1)]\n",
    "   return url_list"
   ]
  },
  {
   "cell_type": "code",
   "execution_count": 6,
   "metadata": {},
   "outputs": [],
   "source": [
    "url_list = generate_urls(urls, 400)\n",
    "url_list[0] = first_url"
   ]
  },
  {
   "cell_type": "code",
   "execution_count": 9,
   "metadata": {},
   "outputs": [],
   "source": [
    "with open(\"masterdegree_url.txt\", \"w\") as fl:\n",
    "  for x in url_list:\n",
    "      result_url = requests.get(x)\n",
    "      result_soup = BeautifulSoup(result_url.text, 'html.parser')\n",
    "      result_links = result_soup.find_all('a', {'class': 'courseLink'})\n",
    "      for item in result_links:\n",
    "        fl.write(f\"www.findamasters.com{item.get('href')}\\n\")\n",
    "      time.sleep(1)"
   ]
  },
  {
   "cell_type": "code",
   "execution_count": 2,
   "metadata": {},
   "outputs": [],
   "source": [
    "with open('masterdegree_url.txt', 'r') as f:\n",
    "   urls = [line.strip() for line in f]\n"
   ]
  },
  {
   "cell_type": "code",
   "execution_count": 11,
   "metadata": {},
   "outputs": [],
   "source": [
    "r = 0\n",
    "t = 15\n",
    "for x in range(401):\n",
    "    os.makedirs(\"pagina\" + str(x))\n",
    "    urls_15 = urls[r:t]\n",
    "    num = 1\n",
    "    for url in urls_15:\n",
    "        response = requests.get(\"https://\" + str(url))\n",
    "        # Parse the HTML content\n",
    "        soup = response.text\n",
    "        #soup = BeautifulSoup(response.content, 'html.parser')\n",
    "        # Save each link's HTML to a file in the corresponding directory\n",
    "        # Save the HTML content to a file\n",
    "        with open((f'pagina{x}/master{num}.html'), 'w') as f:\n",
    "            f.write(soup)\n",
    "        num += 1\n",
    "    time.sleep(2)\n",
    "    r = t \n",
    "    t = t +15   "
   ]
  }
 ],
 "metadata": {
  "interpreter": {
   "hash": "767d51c1340bd893661ea55ea3124f6de3c7a262a8b4abca0554b478b1e2ff90"
  },
  "kernelspec": {
   "display_name": "Python 2.7.17 64-bit",
   "language": "python",
   "name": "python3"
  },
  "language_info": {
   "codemirror_mode": {
    "name": "ipython",
    "version": 3
   },
   "file_extension": ".py",
   "mimetype": "text/x-python",
   "name": "python",
   "nbconvert_exporter": "python",
   "pygments_lexer": "ipython3",
   "version": "3.7.6"
  },
  "orig_nbformat": 4
 },
 "nbformat": 4,
 "nbformat_minor": 2
}
