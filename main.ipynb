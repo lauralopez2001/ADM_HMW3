{
 "cells": [
  {
   "cell_type": "code",
   "execution_count": 5,
   "metadata": {},
   "outputs": [],
   "source": [
    "import bs4\n",
    "from bs4 import BeautifulSoup\n",
    "import requests\n",
    "import time\n",
    "import os"
   ]
  },
  {
   "cell_type": "code",
   "execution_count": 5,
   "metadata": {},
   "outputs": [],
   "source": [
    "first_url = \"https://www.findamasters.com/masters-degrees/msc-degrees/\"\n",
    "urls = \"https://www.findamasters.com/masters-degrees/msc-degrees/?PG=2\""
   ]
  },
  {
   "cell_type": "code",
   "execution_count": 3,
   "metadata": {},
   "outputs": [],
   "source": [
    "#get a list of the urls of all the 400 pages\n",
    "def generate_urls(start_url, num_pages):\n",
    "   url_list = [start_url.replace(\"?PG=2\", f\"?PG={i}\") for i in range(1, num_pages+1)]\n",
    "   return url_list"
   ]
  },
  {
   "cell_type": "code",
   "execution_count": 6,
   "metadata": {},
   "outputs": [],
   "source": [
    "url_list = generate_urls(urls, 400)\n",
    "url_list[0] = first_url"
   ]
  },
  {
   "cell_type": "code",
   "execution_count": 9,
   "metadata": {},
   "outputs": [],
   "source": [
    "with open(\"masterdegree_url.txt\", \"w\") as fl:\n",
    "  for x in url_list:\n",
    "      result_url = requests.get(x)\n",
    "      result_soup = BeautifulSoup(result_url.text, 'html.parser')\n",
    "      result_links = result_soup.find_all('a', {'class': 'courseLink'})\n",
    "      for item in result_links:\n",
    "        fl.write(f\"www.findamasters.com{item.get('href')}\\n\")\n",
    "      time.sleep(1)"
   ]
  },
  {
   "cell_type": "code",
   "execution_count": 2,
   "metadata": {},
   "outputs": [],
   "source": [
    "with open('masterdegree_url.txt', 'r') as f:\n",
    "   urls = [line.strip() for line in f]\n"
   ]
  },
  {
   "cell_type": "code",
   "execution_count": 11,
   "metadata": {},
   "outputs": [],
   "source": [
    "r = 0\n",
    "t = 15\n",
    "for x in range(401):\n",
    "    os.makedirs(\"pagina\" + str(x))\n",
    "    urls_15 = urls[r:t]\n",
    "    num = 1\n",
    "    for url in urls_15:\n",
    "        response = requests.get(\"https://\" + str(url))\n",
    "        # Parse the HTML content\n",
    "        soup = response.text\n",
    "        #soup = BeautifulSoup(response.content, 'html.parser')\n",
    "        # Save each link's HTML to a file in the corresponding directory\n",
    "        # Save the HTML content to a file\n",
    "        with open((f'pagina{x}/master{num}.html'), 'w') as f:\n",
    "            f.write(soup)\n",
    "        num += 1\n",
    "    time.sleep(2)\n",
    "    r = t \n",
    "    t = t +15   "
   ]
  },
  {
   "cell_type": "markdown",
   "metadata": {},
   "source": [
    "### 6. Command Line Question\n",
    "Command line script is located in current directory with name __CommandLine.sh__<br />\n",
    "![Image command line question](terminal.png)"
   ]
  },
  {
   "cell_type": "markdown",
   "metadata": {},
   "source": [
    "### 7. Algorithm Question"
   ]
  },
  {
   "cell_type": "markdown",
   "metadata": {},
   "source": [
    "### 7.1 Implement a code to solve the above mentioned problem."
   ]
  },
  {
   "cell_type": "code",
   "execution_count": null,
   "metadata": {},
   "outputs": [],
   "source": [
    "def get_elements_for_target_sum(nums, target_sum):\n",
    "    n = len(nums)\n",
    "    dp = [[None for _ in range(target_sum + 1)] for _ in range(n + 1)]\n",
    "\n",
    "    # Base case: an empty subset can always add up to 0\n",
    "    for i in range(n):\n",
    "        if 0>=nums[i][0] and nums[i][1]>=0:\n",
    "            dp[i][0]=[0]\n",
    "        else:\n",
    "            dp[i][0]=[]\n",
    "    dp[n][0] = []\n",
    "\n",
    "    # Fill the dp table using bottom-up dynamic programming\n",
    "    for i in range(1, n + 1):\n",
    "        for j in range(target_sum + 1):\n",
    "            # Check if the subset sum can be formed without including the current element\n",
    "            dp[i][j] = dp[i - 1][j] if dp[i - 1][j] is not None else []\n",
    "\n",
    "            # Check if the subset sum can be formed by including the current element\n",
    "            lowerbound, upperbound = nums[i - 1]\n",
    "            for k in range(lowerbound, upperbound + 1):\n",
    "                if j >= k and dp[i - 1][j - k] is not None:\n",
    "                    dp[i][j] = dp[i - 1][j - k] + [k]\n",
    "                   \n",
    "\n",
    "    # If the target sum is not achievable, return an empty list\n",
    "    if not dp[n][target_sum]:\n",
    "        print(\"NO\")\n",
    "        return None\n",
    "\n",
    "    # Extract the actual elements by reconstructing the sequence\n",
    "    selected_elements = []\n",
    "    i, j = n, target_sum\n",
    "    \n",
    "    while i > 0 and j >= 0:\n",
    "        # try catch in case we can't reach our sum\n",
    "        try:\n",
    "            current_element = dp[i][j][-1]\n",
    "            selected_elements.append(current_element)\n",
    "            j -= current_element\n",
    "            i -= 1\n",
    "        except:\n",
    "            print(\"NO\")\n",
    "            return None\n",
    "    \n",
    "    final_str=\"\"\n",
    "    for x in selected_elements[::-1]:\n",
    "        final_str+=str(x)+\" \"\n",
    "    print(final_str)\n",
    "    print(\"YES\")\n",
    "\n",
    "\n",
    "\n",
    "if __name__=='__main__':\n",
    "    # elaborate input\n",
    "    start_input=input()\n",
    "    start_input=start_input.split(\" \")\n",
    "    target_sum=int(start_input[1])\n",
    "    num_lines=int(start_input[0])\n",
    "    nums=[]\n",
    "    for i in range(num_lines):\n",
    "        start_line=input()\n",
    "        start_line=start_line.split()\n",
    "        tupler=(int(start_line[0]),int(start_line[1]))\n",
    "        nums.append(tupler)\n",
    "    # call to the function with nums variable:::: considered as list of tuples and target sum value we should reach\n",
    "    get_elements_for_target_sum(nums, target_sum)"
   ]
  },
  {
   "cell_type": "markdown",
   "metadata": {},
   "source": [
    "### 7.2 What is the time complexity (the Big O notation) of your solution? Please provide a detailed explanation of how you calculated the time complexity."
   ]
  },
  {
   "cell_type": "markdown",
   "metadata": {},
   "source": [
    "Time complexity \"n=len(nums)\"- O(1), function len() of array in python takes up O(1) time <br />\n",
    "Time complexity to calculate dp table creation is O(target_sum*len(nums)) because of 2 loops <br />\n",
    "Time complexity for base case: O(len(nums)), because of the for loop <br />\n",
    "Time complexity for the filling: O(len(nums) * target_sum * (max(nums)-min(nums))), where max(nums) is a max number among entire  list of nums, min(nums) is a max number among entire list of nums <br />\n",
    "Time complexity for the last lines is O(len(selected_elements)) <br />\n",
    "Time complexity of algorithm=O(len(nums) * target_sum * (max(nums)-min(nums)))+O(len(nums))+O(target_sum*len(nums))+O(1)+O(len(selected_elements))=O(len(nums) * target_sum * (max(nums)-min(nums))) <br />"
   ]
  },
  {
   "cell_type": "markdown",
   "metadata": {},
   "source": [
    "### 7.3. Ask ChatGPT or any other LLM chatbot tool to check your code's time complexity (the Big O notation). Compare your answer to theirs. Do you believe this is correct? If the two differ, which one is right? (why?)"
   ]
  },
  {
   "cell_type": "markdown",
   "metadata": {},
   "source": [
    "### Answer from chatgpt\n",
    "The time complexity of the given code is O(n * target_sum * (max_range - min_range)), where:\n",
    "\n",
    "n is the number of elements in the nums list.\n",
    "target_sum is the target sum for which we are trying to find a subset.\n",
    "max_range and min_range represent the upper and lower bounds for each range in the nums list.\n",
    "\n",
    "\n",
    "Actually there is no difference between two results, because n is a number of elements in list, and max_range and min_range are the same as max(nums) and min(nums)"
   ]
  },
  {
   "cell_type": "markdown",
   "metadata": {},
   "source": [
    "### 7.4. What do you think of the optimality of your code? Do you believe it is optimal? Can you improve? Please elaborate on your response."
   ]
  },
  {
   "cell_type": "markdown",
   "metadata": {},
   "source": [
    "Code is optimal because it is using dynamic programming, also considering the fact it is recursive problem, so from exponential cost we had been arrived to polinomial, which is good result "
   ]
  }
 ],
 "metadata": {
  "interpreter": {
   "hash": "767d51c1340bd893661ea55ea3124f6de3c7a262a8b4abca0554b478b1e2ff90"
  },
  "kernelspec": {
   "display_name": "Python 2.7.17 64-bit",
   "language": "python",
   "name": "python3"
  },
  "language_info": {
   "codemirror_mode": {
    "name": "ipython",
    "version": 3
   },
   "file_extension": ".py",
   "mimetype": "text/x-python",
   "name": "python",
   "nbconvert_exporter": "python",
   "pygments_lexer": "ipython3",
   "version": "3.7.6"
  },
  "orig_nbformat": 4
 },
 "nbformat": 4,
 "nbformat_minor": 2
}
