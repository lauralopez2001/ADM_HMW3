{
 "cells": [
  {
   "cell_type": "code",
   "execution_count": 5,
   "metadata": {},
   "outputs": [],
   "source": [
    "import bs4\n",
    "from bs4 import BeautifulSoup\n",
    "import requests\n",
    "import time\n",
    "import os"
   ]
  },
  {
   "cell_type": "code",
   "execution_count": 5,
   "metadata": {},
   "outputs": [],
   "source": [
    "first_url = \"https://www.findamasters.com/masters-degrees/msc-degrees/\"\n",
    "urls = \"https://www.findamasters.com/masters-degrees/msc-degrees/?PG=2\""
   ]
  },
  {
   "cell_type": "code",
   "execution_count": 3,
   "metadata": {},
   "outputs": [],
   "source": [
    "#get a list of the urls of all the 400 pages\n",
    "def generate_urls(start_url, num_pages):\n",
    "   url_list = [start_url.replace(\"?PG=2\", f\"?PG={i}\") for i in range(1, num_pages+1)]\n",
    "   return url_list"
   ]
  },
  {
   "cell_type": "code",
   "execution_count": 6,
   "metadata": {},
   "outputs": [],
   "source": [
    "url_list = generate_urls(urls, 400)\n",
    "url_list[0] = first_url"
   ]
  },
  {
   "cell_type": "code",
   "execution_count": 9,
   "metadata": {},
   "outputs": [],
   "source": [
    "with open(\"masterdegree_url.txt\", \"w\") as fl:\n",
    "  for x in url_list:\n",
    "      result_url = requests.get(x)\n",
    "      result_soup = BeautifulSoup(result_url.text, 'html.parser')\n",
    "      result_links = result_soup.find_all('a', {'class': 'courseLink'})\n",
    "      for item in result_links:\n",
    "        fl.write(f\"www.findamasters.com{item.get('href')}\\n\")\n",
    "      time.sleep(1)"
   ]
  },
  {
   "cell_type": "code",
   "execution_count": 2,
   "metadata": {},
   "outputs": [],
   "source": [
    "with open('masterdegree_url.txt', 'r') as f:\n",
    "   urls = [line.strip() for line in f]\n"
   ]
  },
  {
   "cell_type": "code",
   "execution_count": 11,
   "metadata": {},
   "outputs": [],
   "source": [
    "r = 0\n",
    "t = 15\n",
    "for x in range(401):\n",
    "    os.makedirs(\"pagina\" + str(x))\n",
    "    urls_15 = urls[r:t]\n",
    "    num = 1\n",
    "    for url in urls_15:\n",
    "        response = requests.get(\"https://\" + str(url))\n",
    "        # Parse the HTML content\n",
    "        soup = response.text\n",
    "        #soup = BeautifulSoup(response.content, 'html.parser')\n",
    "        # Save each link's HTML to a file in the corresponding directory\n",
    "        # Save the HTML content to a file\n",
    "        with open((f'pagina{x}/master{num}.html'), 'w') as f:\n",
    "            f.write(soup)\n",
    "        num += 1\n",
    "    time.sleep(2)\n",
    "    r = t \n",
    "    t = t +15   "
   ]
  },
  {
   "cell_type": "markdown",
   "metadata": {},
   "source": [
    "### 7. Algorithm Question"
   ]
  },
  {
   "cell_type": "markdown",
   "metadata": {},
   "source": [
    "### 7.1 Implement a code to solve the above mentioned problem."
   ]
  },
  {
   "cell_type": "code",
   "execution_count": null,
   "metadata": {},
   "outputs": [],
   "source": [
    "def subset_sum_with_ranges(nums, target_sum):\n",
    "    '''dp[i][j] is True if there is a subset of the first i elements that adds up to j\n",
    "       in this case we used dynamic programming to solve current problem\n",
    "    '''\n",
    "    n = len(nums)\n",
    "    dp = [[False for _ in range(target_sum + 1)] for _ in range(n + 1)]\n",
    "\n",
    "    # Base case: an empty subset can always add up to 0\n",
    "    for i in range(n + 1):\n",
    "        dp[i][0] = True\n",
    "\n",
    "    # Fill the dp table using bottom-up dynamic programming\n",
    "    for i in range(1, n + 1):\n",
    "        for j in range(target_sum + 1):\n",
    "            # Check if the subset sum can be formed without including the current range\n",
    "            dp[i][j] = dp[i - 1][j]\n",
    "\n",
    "            # Check if the subset sum can be formed by including the current range\n",
    "            lowerbound, upperbound = nums[i - 1]\n",
    "            for k in range(lowerbound, upperbound + 1):\n",
    "                if j >= k:\n",
    "                    dp[i][j] = dp[i][j] or dp[i - 1][j - k]\n",
    "\n",
    "    # The final result is stored in the bottom-right cell of the dp table\n",
    "    return dp[n][target_sum]"
   ]
  },
  {
   "cell_type": "markdown",
   "metadata": {},
   "source": [
    "### 7.2 What is the time complexity (the Big O notation) of your solution? Please provide a detailed explanation of how you calculated the time complexity."
   ]
  },
  {
   "cell_type": "markdown",
   "metadata": {},
   "source": [
    "Time complexity \"n=len(nums)\"- O(1), function len() of array in python takes up O(1) time\n",
    "Time complexity to calculate dp table creation is O(target_sum*len(nums)) because of 2 loops\n",
    "Time complexity for base case: O(len(nums)), because of the for loop\n",
    "Time complexity for the filling: O(len(nums) * target_sum * (max(nums)-min(nums))), where max(nums) is a max number among entire list of nums, min(nums) is a max number among entire list of nums\n",
    "Time complexity of algorithm=O(len(nums) * target_sum * (max(nums)-min(nums)))+O(len(nums))+O(target_sum*len(nums))+O(1)=O(len(nums) * target_sum * (max(nums)-min(nums)))"
   ]
  },
  {
   "cell_type": "markdown",
   "metadata": {},
   "source": [
    "### 7.3. Ask ChatGPT or any other LLM chatbot tool to check your code's time complexity (the Big O notation). Compare your answer to theirs. Do you believe this is correct? If the two differ, which one is right? (why?)"
   ]
  },
  {
   "cell_type": "markdown",
   "metadata": {},
   "source": [
    "### Answer from chatgpt\n",
    "The time complexity of the given code is O(n * target_sum * (max_range - min_range)), where:\n",
    "\n",
    "n is the number of elements in the nums list.\n",
    "target_sum is the target sum for which we are trying to find a subset.\n",
    "max_range and min_range represent the upper and lower bounds for each range in the nums list.\n",
    "\n",
    "\n",
    "Actually there is no difference between two results, because n is a number of elements in list, and max_range and min_range are the same as max(nums) and min(nums)"
   ]
  },
  {
   "cell_type": "markdown",
   "metadata": {},
   "source": [
    "### 7.4. What do you think of the optimality of your code? Do you believe it is optimal? Can you improve? Please elaborate on your response."
   ]
  },
  {
   "cell_type": "markdown",
   "metadata": {},
   "source": [
    "Code is optimal because it is using dynamic programming, also considering the fact it is recursive problem, so from exponential cost we had been arrived to polinomial, which is good result "
   ]
  }
 ],
 "metadata": {
  "interpreter": {
   "hash": "767d51c1340bd893661ea55ea3124f6de3c7a262a8b4abca0554b478b1e2ff90"
  },
  "kernelspec": {
   "display_name": "Python 2.7.17 64-bit",
   "language": "python",
   "name": "python3"
  },
  "language_info": {
   "codemirror_mode": {
    "name": "ipython",
    "version": 3
   },
   "file_extension": ".py",
   "mimetype": "text/x-python",
   "name": "python",
   "nbconvert_exporter": "python",
   "pygments_lexer": "ipython3",
   "version": "3.7.6"
  },
  "orig_nbformat": 4
 },
 "nbformat": 4,
 "nbformat_minor": 2
}
